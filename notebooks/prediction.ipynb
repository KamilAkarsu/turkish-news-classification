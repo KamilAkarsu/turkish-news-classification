{
 "cells": [
  {
   "cell_type": "markdown",
   "metadata": {},
   "source": [
    "# Turkish News Category Classification (4. Prediction)\n",
    "## Import Packages"
   ]
  },
  {
   "cell_type": "code",
   "execution_count": 2,
   "metadata": {
    "colab": {
     "base_uri": "https://localhost:8080/"
    },
    "executionInfo": {
     "elapsed": 8235,
     "status": "ok",
     "timestamp": 1612506867974,
     "user": {
      "displayName": "Serdar AKYOL",
      "photoUrl": "https://lh3.googleusercontent.com/a-/AOh14GhFoEhTTdnKtbAMCf_KR00rHfafHKDcsas7YjsxIA=s64",
      "userId": "13192402314406047829"
     },
     "user_tz": -180
    },
    "id": "c5g_QyuUvjfT",
    "outputId": "4fc77000-fda8-42f1-f4b8-a75ff82ef9eb"
   },
   "outputs": [],
   "source": [
    "from scipy.sparse import hstack\n",
    "import pandas as pd\n",
    "import pickle\n",
    "import re\n",
    "import string\n",
    "from collections import defaultdict"
   ]
  },
  {
   "cell_type": "code",
   "execution_count": 3,
   "metadata": {},
   "outputs": [],
   "source": [
    "#  load word and char tfidf vectors\n",
    "PATH_ROOT = r'../' \n",
    "PATH_STOPWORDS_TR = PATH_ROOT + 'data/stopwords_tr_interpress.pkl'\n",
    "PATH_BLACKLIST_TR = PATH_ROOT + 'data/tr-blacklist.pkl'\n",
    "\n",
    "#  load dataset\n",
    "def load_data(path):\n",
    "    with open(PATH_ROOT + path, 'rb') as handle:\n",
    "        dataset = pickle.load(handle)\n",
    "    return dataset"
   ]
  },
  {
   "cell_type": "code",
   "execution_count": 4,
   "metadata": {
    "id": "EL9tor0CTMbA"
   },
   "outputs": [],
   "source": [
    "labels = {\n",
    "    0 : \"Kültür-Sanat\",\n",
    "    1 : \"Ekonomi\",\n",
    "    2 : \"Siyaset\",\n",
    "    3 : \"Eğitim\",\n",
    "    4 : \"Dünya\",\n",
    "    5 : \"Spor\",\n",
    "    6 : \"Teknoloji\",\n",
    "    7 : \"Magazin\",\n",
    "    8 : \"Sağlık\",\n",
    "    9 : \"Gündem\"\n",
    "}"
   ]
  },
  {
   "cell_type": "markdown",
   "metadata": {},
   "source": [
    "## Load TF-IDF Word&Char Vectors"
   ]
  },
  {
   "cell_type": "code",
   "execution_count": 5,
   "metadata": {},
   "outputs": [],
   "source": [
    "with open(PATH_ROOT + 'vectors/interpress_news_category_tr_lite_train_cleaned_tfidf_word_2000.pkl', 'rb') as handle:\n",
    "    word_tfidf = pickle.load(handle)\n",
    "\n",
    "with open(PATH_ROOT + 'vectors/interpress_news_category_tr_lite_train_cleaned_tfidf_char_2000.pkl', 'rb') as handle:\n",
    "    char_tfidf = pickle.load(handle)"
   ]
  },
  {
   "cell_type": "markdown",
   "metadata": {},
   "source": [
    "## Load SVM Model"
   ]
  },
  {
   "cell_type": "code",
   "execution_count": 6,
   "metadata": {
    "id": "2PoBefojxu_3"
   },
   "outputs": [],
   "source": [
    "#  load model\n",
    "with open(PATH_ROOT + 'models/interpress_news_category_tr_lite_classifier_svm_model_4000.sav', 'rb') as handle:\n",
    "    model = pickle.load(handle)"
   ]
  },
  {
   "cell_type": "markdown",
   "metadata": {},
   "source": [
    "# PreProcessing"
   ]
  },
  {
   "cell_type": "code",
   "execution_count": 7,
   "metadata": {
    "id": "_I0Z7tG8VIaG"
   },
   "outputs": [],
   "source": [
    "#  load stopwords\n",
    "def get_stopwords():\n",
    "    try:\n",
    "        with open(PATH_STOPWORDS_TR, 'rb') as data_file:\n",
    "            return pickle.load(data_file)\n",
    "    except IOError as exc:\n",
    "        raise IOError(\"No such stopwords file! Error: \" + str(exc))\n",
    "\n",
    "#  load blacklist\n",
    "def get_blacklist():\n",
    "    try:\n",
    "        with open(PATH_BLACKLIST_TR, 'rb') as data_file:\n",
    "            return pickle.load(data_file)\n",
    "    except IOError as exc:\n",
    "        raise IOError(\"No such stopwords file! Error: \" + str(exc))\n",
    "        \n",
    "\n",
    "#  cleaning stopwords\n",
    "def clean_stopwords(content):\n",
    "    # content: str\n",
    "    content = content.split(\" \")\n",
    "    filtered_list = []\n",
    "    stopwords = get_stopwords()\n",
    "    for word in content:\n",
    "        if word not in stopwords:\n",
    "            filtered_list.append(word)\n",
    "\n",
    "    text = ' '.join(filtered_list)\n",
    "    return text\n",
    "\n",
    "#  cleaning blacklist\n",
    "def clean_blacklist(content):\n",
    "    # content: str\n",
    "    # return: str\n",
    "    content = content.split(\" \")\n",
    "    filtered_list = []\n",
    "    blacklist = get_blacklist()\n",
    "    for word in content:\n",
    "        if word not in blacklist:\n",
    "            filtered_list.append(word)\n",
    "\n",
    "    text = ' '.join(filtered_list)\n",
    "    return text\n",
    "\n",
    "#  cleaning URLs\n",
    "def clean_url(content):\n",
    "    #  content: str\n",
    "    #  return: str\n",
    "    reg_url = r'''(?i)\\b((?:https?://|www\\d{0,3}[.]|[a-z0-9.\\-]+[.][a-z]{2,4}/)(?:[^\\s()<>]+|\\(([^\\s()<>]+|(\\([^\\s()<>]+\\)))*\\))+(?:\\(([^\\s()<>]+|(\\([^\\s()<>]+\\)))*\\)|[^\\s`!()\\[\\]{};:'\".,<>?«»“”‘’]))'''\n",
    "    pattern_url = re.compile(reg_url)\n",
    "    content = pattern_url.sub('',content)\n",
    "    return content\n",
    "    \n",
    "#  cleaning e-mails\n",
    "def clean_email(content):\n",
    "    reg_email='\\S*@\\S*\\s?'\n",
    "    pattern_email = re.compile(reg_email)\n",
    "    content = pattern_email.sub('',content)\n",
    "    return content\n",
    "    \n",
    "#  cleaning punctuation\n",
    "def clean_punctuation(content):\n",
    "    #regex = re.compile('[%s]' % re.escape(string.punctuation))\n",
    "    #content = regex.sub(\" \", content)\n",
    "    content = content.translate(content.maketrans(\"\", \"\", string.punctuation))\n",
    "    return content\n",
    "    \n",
    "#  cleaning digits\n",
    "def clean_numbers(content):\n",
    "    remove_digits = str.maketrans('', '', string.digits)\n",
    "    text = content.translate(remove_digits)\n",
    "    return text\n",
    "\n",
    "def listToString(text):\n",
    "    #  text: string\n",
    "    #  return: string \n",
    "    str1 = \" \"  \n",
    "    return (str1.join(text)) \n",
    "\n",
    "#  cleaning postfix\n",
    "#  for example: Venezuela'nın ==> Venezuela\n",
    "def clean_postfix(content):\n",
    "    #  content: list\n",
    "    #  return: str\n",
    "    spesific_punctation = [39, 8217] # ascii codes of spesific punctations\n",
    "    all_words = defaultdict(list)\n",
    "    counter = 0\n",
    "    for i, word in enumerate(content):\n",
    "        if len(word) > 2:\n",
    "            if chr(8217) in word:\n",
    "                replaced_word = word.replace(chr(8217), \" \")  #  clean for ’\n",
    "                replaced_word = replaced_word.split(\" \")[0]\n",
    "                all_words[i].append(replaced_word)\n",
    "            elif chr(39) in word:\n",
    "                replaced_word = word.replace(chr(39), \" \")  # clean for '\n",
    "                replaced_word = replaced_word.split(\" \")[0]\n",
    "                all_words[i].append(replaced_word)\n",
    "            else:\n",
    "                all_words[i].append(word)\n",
    "    all_words = sorted(all_words.items())\n",
    "\n",
    "    text = \"\"\n",
    "    for i in range(len(all_words)):\n",
    "        text = text + \" \" + all_words[i][1][0]\n",
    "\n",
    "    return text\n",
    "\n",
    "def clean_text(content):\n",
    "    #  text: string\n",
    "    #  return: string\n",
    "    content = content.lower()\n",
    "    cleaned_email = clean_email(content)\n",
    "    cleaned_email_url = clean_url(cleaned_email)\n",
    "    cleaned_email_url = listToString(cleaned_email_url.split(\".\"))\n",
    "    cleaned_email_url = cleaned_email_url.split(\" \")\n",
    "    cleaned_email_url_postfix = clean_postfix(cleaned_email_url)\n",
    "    cleaned_email_url_postfix_punctuation = clean_punctuation(cleaned_email_url_postfix)\n",
    "    cleaned_email_url_postfix_punctuation_numbers = clean_numbers(cleaned_email_url_postfix_punctuation)\n",
    "    cleaned_email_url_postfix_punctuation_numbers_stopwords = clean_stopwords(cleaned_email_url_postfix_punctuation_numbers)\n",
    "    cleaned_email_url_postfix_punctuation_numbers_stopwords_blacklist = clean_blacklist(cleaned_email_url_postfix_punctuation_numbers_stopwords)\n",
    "   \n",
    "    filtered_sentence = []\n",
    "    for word in cleaned_email_url_postfix_punctuation_numbers_stopwords_blacklist.split(\" \"):\n",
    "        if len(word) > 2:\n",
    "            filtered_sentence.append(word)\n",
    "    \n",
    "    text = ' '.join(filtered_sentence)\n",
    "    return text\n"
   ]
  },
  {
   "cell_type": "markdown",
   "metadata": {
    "id": "r7iSpA5Z6Nj6"
   },
   "source": [
    "# Custom prediction"
   ]
  },
  {
   "cell_type": "markdown",
   "metadata": {},
   "source": [
    "### Sample 1"
   ]
  },
  {
   "cell_type": "code",
   "execution_count": 28,
   "metadata": {
    "colab": {
     "base_uri": "https://localhost:8080/",
     "height": 137
    },
    "executionInfo": {
     "elapsed": 1118,
     "status": "ok",
     "timestamp": 1612355412140,
     "user": {
      "displayName": "Serdar AKYOL",
      "photoUrl": "https://lh3.googleusercontent.com/a-/AOh14GhFoEhTTdnKtbAMCf_KR00rHfafHKDcsas7YjsxIA=s64",
      "userId": "13192402314406047829"
     },
     "user_tz": -180
    },
    "id": "OG68qs1cV-3x",
    "outputId": "a06d5568-3517-49f3-acff-a25eeca9f533"
   },
   "outputs": [
    {
     "data": {
      "text/plain": [
       "'faizsiz konut taşıt edindiren şirketlere yönelik yasa teklifi meclis sunuldu lira sermaye şartının etkisi bddk incelemeleri firmaların büyük kısmının tasfiye müşterilerin kurumsal firmalara aktarılması bekleniyor'"
      ]
     },
     "execution_count": 28,
     "metadata": {},
     "output_type": "execute_result"
    }
   ],
   "source": [
    "#news = r\"Çin biyoteknoloji şirketleri China National Pharmaceutical Group (Sinopharm) ve Chongqing Zhifei Biological Products'ın bir yan kuruluşu tarafından geliştirilen iki corona virüs aşının Güney Afrika mutasyonuna karşı bağışıklığı tetiklediği açıklandı. BioRxiv adlı dergide ön baskısı yayımlanan laboratuvar araştırmasında, aşıyı yaptıran kişilerin kan örnekleri analiz edildi. Araştırmacılar, aşının tetiklediği antikorların Güney Afrika varyantına karşı nötrleştirme aktivitesini koruduğunu söyledi. Makale, Sinopharm'a bağlı Pekin Biyolojik Ürünler Enstitüsü, Çin Bilimler Akademisi Mikrobiyoloji Enstitüsü araştırmacıları tarafından yazıldı. AŞILARIN ETKİNLİĞİ DÜŞTÜ Bununla birlikte,  alınan örneklerdeki antikorların mutant virüse karşı aktivitesinin  orijinal virüse göre daha zayıf olduğu ifade edildi. Bilim insanları, aktivite azalmasının aşıların klinik etkililiğine olan etkisi dikkate alınmalıdır açıklamasını yaptı. Ancak, aşılardaki etkinliğin hangi oranda düştüğü belirtilmedi. Öte yandan, yüzde 79 oranında  etkili olduğu açıklanan Sinopharm aşısı Çin'de genel kullanım için onaylandı  ve Birleşik Arap Emirlikleri (BAE) de  dahil olmak üzere diğer birçok ülkede de kullanıllıyor. \"\n",
    "#news = \"Şu sıralar 'Çukur' dizisinde 'Vartolu Sadettin' karakteriyle ekranlarda boy gösteren oyuncu Erkan Kolçak Köstendil ve meslektaşı Cansu Tosun 2018 yılında nikah masasına oturmuştu. Çift şu sıralar bebek heyecanı yaşıyor.Cansu Tosun 4.5 aylık hamile. Cansu Tosun ve Erkan Kolçak Köstendil'in bebeklerinin adına karar verdi.\"\n",
    "#news = \"Batı dünyasında çok sık rastlanılan, bebek ölümlerine neden olan genetik hastalık SMA'ya, son yıllarda ülkemizde de sık rastlanılmaya başladı. Edinburgh Üniversitesi'nde yapılan deneye göre her 6 bin doğumdan birinde görülen SMA tanısı %95 delesyon tanısı olarak DNA testi sonucuyla konuyor. Geriye kalan %5 oranındaki bozukluk diğer hasar veren mutasyonlar şeklinde gelişebiliyor. 6000 – 10000 doğumda bir görülebilen hastalıkta 40 çocuktan biri taşıyıcı olabiliyor. Her iki ebeveynden bozuk gen çocuğa geçtiğinde ancak çocuk SMA hastası olabiliyor. Sadece anneden veya sadece babadan bozuk gen aktarımı çocukta hastalık oluşturmuyor, ancak taşıyıcılık oluşturabiliyor..\"\n",
    "news = \"Faizsiz konut ve taşıt edindiren şirketlere yönelik yasa teklifi Meclis’e sunuldu. 100 milyon lira sermaye şartının etkisi ve BDDK incelemeleri sonrasında firmaların büyük kısmının tasfiye edilmesi, müşterilerin kurumsal firmalara aktarılması bekleniyor.\"\n",
    "#news = \"PSG'nin dünyaca ünlü yıldız futbolcusu Neymar, sakatlığı sebebiyle 4 hafta sahalardan uzak kalacak. Neymar'ın son yıllarda kız kardeşi Rafaella Santos'un doğum gününe denk gelen tarihlerde sakatlanması dikkat çekiyor...\"\n",
    "#news = \"Brezilyalı futbolcu, son yıllarda kardeşinin doğum günü tarihine gelecek şekilde sakatlanıyor. Senaryo, bu yıl da değişmedi. 4 hafta sahalardan uzak kalacak olan Neymar, bir kez daha kız kardeşinin doğum gününde sahalarda olmayacak.2015 ve 2016 yıllarında 11 Mart tarihlerinde kart cezalısı olduğu için Brezilya'da olan Neymar, 2017, 2018, 2019, 2020 ve 2021'de ise bu tarihlerde sakatlık geçirdi. Bu tarihlerde sakat veya cezalı olduğu için Brezilya'ya giden Neymar, bu yıl da Rafaella'nın doğum gününde Brezilya'da olacak.\" \n",
    "cleaned_news = clean_text(news)\n",
    "cleaned_news"
   ]
  },
  {
   "cell_type": "code",
   "execution_count": 29,
   "metadata": {
    "colab": {
     "base_uri": "https://localhost:8080/",
     "height": 137
    },
    "executionInfo": {
     "elapsed": 925,
     "status": "ok",
     "timestamp": 1612355599719,
     "user": {
      "displayName": "Serdar AKYOL",
      "photoUrl": "https://lh3.googleusercontent.com/a-/AOh14GhFoEhTTdnKtbAMCf_KR00rHfafHKDcsas7YjsxIA=s64",
      "userId": "13192402314406047829"
     },
     "user_tz": -180
    },
    "id": "yqkx5BFr4e2Q",
    "outputId": "37d5ec13-1af8-4cd4-f17d-99782bfbe2e2"
   },
   "outputs": [
    {
     "data": {
      "text/plain": [
       "'Faizsiz konut ve taşıt edindiren şirketlere yönelik yasa teklifi Meclis’e sunuldu. 100 milyon lira sermaye şartının etkisi ve BDDK incelemeleri sonrasında firmaların büyük kısmının tasfiye edilmesi, müşterilerin kurumsal firmalara aktarılması bekleniyor.'"
      ]
     },
     "execution_count": 29,
     "metadata": {},
     "output_type": "execute_result"
    }
   ],
   "source": [
    "news"
   ]
  },
  {
   "cell_type": "markdown",
   "metadata": {},
   "source": [
    "## Preprocessing"
   ]
  },
  {
   "cell_type": "code",
   "execution_count": 30,
   "metadata": {
    "id": "YtNw31YAL0ua"
   },
   "outputs": [],
   "source": [
    "#  preprocessing\n",
    "word_transformed_news = word_tfidf.transform([cleaned_news])\n",
    "char_transformed_news = char_tfidf.transform([cleaned_news])\n",
    "news_featured = hstack([word_transformed_news, char_transformed_news])"
   ]
  },
  {
   "cell_type": "code",
   "execution_count": 31,
   "metadata": {},
   "outputs": [
    {
     "data": {
      "text/plain": [
       "{0: 'Kültür-Sanat',\n",
       " 1: 'Ekonomi',\n",
       " 2: 'Siyaset',\n",
       " 3: 'Eğitim',\n",
       " 4: 'Dünya',\n",
       " 5: 'Spor',\n",
       " 6: 'Teknoloji',\n",
       " 7: 'Magazin',\n",
       " 8: 'Sağlık',\n",
       " 9: 'Gündem'}"
      ]
     },
     "execution_count": 31,
     "metadata": {},
     "output_type": "execute_result"
    }
   ],
   "source": [
    "labels"
   ]
  },
  {
   "cell_type": "markdown",
   "metadata": {},
   "source": [
    "# Prediction Result"
   ]
  },
  {
   "cell_type": "code",
   "execution_count": 32,
   "metadata": {
    "colab": {
     "base_uri": "https://localhost:8080/"
    },
    "executionInfo": {
     "elapsed": 1364,
     "status": "ok",
     "timestamp": 1612355418199,
     "user": {
      "displayName": "Serdar AKYOL",
      "photoUrl": "https://lh3.googleusercontent.com/a-/AOh14GhFoEhTTdnKtbAMCf_KR00rHfafHKDcsas7YjsxIA=s64",
      "userId": "13192402314406047829"
     },
     "user_tz": -180
    },
    "id": "47rgH01BNO6D",
    "outputId": "0bc316a7-b557-43a3-e513-cda7598603a1"
   },
   "outputs": [
    {
     "name": "stdout",
     "output_type": "stream",
     "text": [
      "[1]\n",
      "Ekonomi\n"
     ]
    }
   ],
   "source": [
    "#  model prediction\n",
    "result = model.predict(news_featured)\n",
    "print(result)\n",
    "print(labels[result[0]])"
   ]
  },
  {
   "cell_type": "markdown",
   "metadata": {
    "id": "K75zs_Pn3zKG"
   },
   "source": [
    "### Sample 2 "
   ]
  },
  {
   "cell_type": "code",
   "execution_count": 33,
   "metadata": {},
   "outputs": [
    {
     "data": {
      "text/plain": [
       "'psg dünyaca ünlü yıldız futbolcusu neymar sakatlığı sebebiyle sahalardan uzak kalacak neymar yıllarda kız kardeşi rafaella santos doğum gününe denk gelen tarihlerde sakatlanması dikkat çekiyor'"
      ]
     },
     "execution_count": 33,
     "metadata": {},
     "output_type": "execute_result"
    }
   ],
   "source": [
    "news = \"PSG'nin dünyaca ünlü yıldız futbolcusu Neymar, sakatlığı sebebiyle 4 hafta sahalardan uzak kalacak. Neymar'ın son yıllarda kız kardeşi Rafaella Santos'un doğum gününe denk gelen tarihlerde sakatlanması dikkat çekiyor...\"\n",
    "\n",
    "cleaned_news = clean_text(news)\n",
    "cleaned_news"
   ]
  },
  {
   "cell_type": "code",
   "execution_count": 34,
   "metadata": {},
   "outputs": [
    {
     "name": "stdout",
     "output_type": "stream",
     "text": [
      "[5]\n",
      "Spor\n"
     ]
    }
   ],
   "source": [
    "#  preprocessing\n",
    "word_transformed_news = word_tfidf.transform([cleaned_news])\n",
    "char_transformed_news = char_tfidf.transform([cleaned_news])\n",
    "news_featured = hstack([word_transformed_news, char_transformed_news])\n",
    "\n",
    "#  model prediction\n",
    "result = model.predict(news_featured)\n",
    "print(result)\n",
    "print(labels[result[0]])"
   ]
  },
  {
   "cell_type": "code",
   "execution_count": null,
   "metadata": {},
   "outputs": [],
   "source": []
  }
 ],
 "metadata": {
  "colab": {
   "collapsed_sections": [],
   "machine_shape": "hm",
   "name": "5-prediction.ipynb",
   "provenance": [
    {
     "file_id": "110BuQrFkWOvNlZzOnbv1bv4Pcnp_CG9f",
     "timestamp": 1612104331836
    },
    {
     "file_id": "1uJbUF5MKdBvVFHbGuIGoCaK57Ct3NPT5",
     "timestamp": 1610984517474
    },
    {
     "file_id": "168mUteawbbMfplkef5XhRKmfRaqakQOl",
     "timestamp": 1610979380646
    },
    {
     "file_id": "1hfyGe1L9gRvE0BA-uF97WXjG1-aCJhLo",
     "timestamp": 1610977759351
    },
    {
     "file_id": "1EhV8loc8YGajanvuyKVXS6_9NXj2l0lL",
     "timestamp": 1610971316628
    },
    {
     "file_id": "1j0iqV5ZHYvgvBsYhTLfflWSkRfUpnWts",
     "timestamp": 1610970574074
    },
    {
     "file_id": "1usAJG7Vw1ibjEnwRnF3RdYMBcP-d9mgy",
     "timestamp": 1610391444522
    },
    {
     "file_id": "15kOQvjWDWRpqIMwcbuVK1A_tYDfqzmXL",
     "timestamp": 1610264734174
    },
    {
     "file_id": "1-d_cswyB7vyXcSfVUhNf2FmulnUAGmi3",
     "timestamp": 1610264644885
    },
    {
     "file_id": "1R-eRxihkoUuobq9eV7P-FlKDQPlxI0wW",
     "timestamp": 1610264540446
    },
    {
     "file_id": "1n-mq4FCR3MNPc0ZiRDB4_smukAhjhdCA",
     "timestamp": 1610215573242
    },
    {
     "file_id": "1GqZu6zmCy2vMNMZqO78DDuHvwv_9vJcp",
     "timestamp": 1609855024052
    },
    {
     "file_id": "1IzPbxNFQmmSYk9s14L4YjBfUgACn9mW2",
     "timestamp": 1593978024316
    },
    {
     "file_id": "1G7NKeneJNyRtcRxLVbbF9jYtRyuTOa-R",
     "timestamp": 1592749700622
    },
    {
     "file_id": "https://github.com/satyajitghana/TSAI-DeepVision-EVA4.0/blob/master/Utils/Colab_25GBRAM_GPU.ipynb",
     "timestamp": 1592043804148
    }
   ]
  },
  "kernelspec": {
   "display_name": "Python 3",
   "language": "python",
   "name": "python3"
  },
  "language_info": {
   "codemirror_mode": {
    "name": "ipython",
    "version": 3
   },
   "file_extension": ".py",
   "mimetype": "text/x-python",
   "name": "python",
   "nbconvert_exporter": "python",
   "pygments_lexer": "ipython3",
   "version": "3.8.5"
  }
 },
 "nbformat": 4,
 "nbformat_minor": 4
}
