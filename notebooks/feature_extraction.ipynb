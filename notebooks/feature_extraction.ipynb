{
 "cells": [
  {
   "cell_type": "markdown",
   "metadata": {},
   "source": [
    "# Turkish News Category Classification (2. Feature Extraction)\n",
    "## Import Packages"
   ]
  },
  {
   "cell_type": "code",
   "execution_count": 1,
   "metadata": {
    "colab": {
     "base_uri": "https://localhost:8080/"
    },
    "executionInfo": {
     "elapsed": 10445,
     "status": "ok",
     "timestamp": 1613106715442,
     "user": {
      "displayName": "Serdar AKYOL",
      "photoUrl": "https://lh3.googleusercontent.com/a-/AOh14GhFoEhTTdnKtbAMCf_KR00rHfafHKDcsas7YjsxIA=s64",
      "userId": "13192402314406047829"
     },
     "user_tz": -180
    },
    "id": "c5g_QyuUvjfT",
    "outputId": "4f0aa09a-c777-4d0b-af4e-2b8f371034b9"
   },
   "outputs": [],
   "source": [
    "from sklearn.feature_extraction.text import TfidfVectorizer\n",
    "import pandas as pd\n",
    "import pickle"
   ]
  },
  {
   "cell_type": "code",
   "execution_count": 2,
   "metadata": {
    "executionInfo": {
     "elapsed": 3887,
     "status": "ok",
     "timestamp": 1613106738554,
     "user": {
      "displayName": "Serdar AKYOL",
      "photoUrl": "https://lh3.googleusercontent.com/a-/AOh14GhFoEhTTdnKtbAMCf_KR00rHfafHKDcsas7YjsxIA=s64",
      "userId": "13192402314406047829"
     },
     "user_tz": -180
    },
    "id": "dOZAd6NIHMwd"
   },
   "outputs": [],
   "source": [
    "PATH_ROOT = r'../' \n",
    "\n",
    "#  load dataset\n",
    "def load_data(path):\n",
    "    with open(PATH_ROOT + path, 'rb') as handle:\n",
    "        dataset = pickle.load(handle)\n",
    "    return dataset"
   ]
  },
  {
   "cell_type": "markdown",
   "metadata": {},
   "source": [
    "## Load Cleaned Train&Test Dataset"
   ]
  },
  {
   "cell_type": "code",
   "execution_count": 3,
   "metadata": {
    "executionInfo": {
     "elapsed": 2232,
     "status": "ok",
     "timestamp": 1613106753958,
     "user": {
      "displayName": "Serdar AKYOL",
      "photoUrl": "https://lh3.googleusercontent.com/a-/AOh14GhFoEhTTdnKtbAMCf_KR00rHfafHKDcsas7YjsxIA=s64",
      "userId": "13192402314406047829"
     },
     "user_tz": -180
    },
    "id": "-cbfcAWq2D0J"
   },
   "outputs": [],
   "source": [
    "df_train = load_data(r\"datasets/interpress_news_category_tr_lite_train_cleaned.pkl\")\n",
    "df_test = load_data(r\"datasets/interpress_news_category_tr_lite_test_cleaned.pkl\")\n",
    "\n",
    "df_all = pd.concat([df_train, df_test], ignore_index=True)"
   ]
  },
  {
   "cell_type": "code",
   "execution_count": 4,
   "metadata": {},
   "outputs": [
    {
     "data": {
      "text/html": [
       "<div>\n",
       "<style scoped>\n",
       "    .dataframe tbody tr th:only-of-type {\n",
       "        vertical-align: middle;\n",
       "    }\n",
       "\n",
       "    .dataframe tbody tr th {\n",
       "        vertical-align: top;\n",
       "    }\n",
       "\n",
       "    .dataframe thead th {\n",
       "        text-align: right;\n",
       "    }\n",
       "</style>\n",
       "<table border=\"1\" class=\"dataframe\">\n",
       "  <thead>\n",
       "    <tr style=\"text-align: right;\">\n",
       "      <th></th>\n",
       "      <th>content</th>\n",
       "      <th>category</th>\n",
       "      <th>clean_content</th>\n",
       "    </tr>\n",
       "  </thead>\n",
       "  <tbody>\n",
       "    <tr>\n",
       "      <th>0</th>\n",
       "      <td>50 yıldır yükselen enerji: Aygaz TÜRK HALKINI ...</td>\n",
       "      <td>1</td>\n",
       "      <td>yıldır yükselen enerji aygaz türk halkini tüpg...</td>\n",
       "    </tr>\n",
       "    <tr>\n",
       "      <th>1</th>\n",
       "      <td>Onur Akyıl Bir insan kadar mutsuzBir insan kad...</td>\n",
       "      <td>0</td>\n",
       "      <td>onur akyıl insan mutsuzbir insan mutsuzi onur ...</td>\n",
       "    </tr>\n",
       "    <tr>\n",
       "      <th>2</th>\n",
       "      <td>. yolculuk GÜNEYLİ SARIŞIN: REESE WITHERSPOON ...</td>\n",
       "      <td>0</td>\n",
       "      <td>yolculuk güneyli̇ sarişin reese witherspoon ya...</td>\n",
       "    </tr>\n",
       "    <tr>\n",
       "      <th>3</th>\n",
       "      <td>Doğru tercih yapan hiçbir aday açıkta kalmayac...</td>\n",
       "      <td>3</td>\n",
       "      <td>doğru tercih yapan aday açıkta kalmayacak aday...</td>\n",
       "    </tr>\n",
       "    <tr>\n",
       "      <th>4</th>\n",
       "      <td>De Jong için sıraya girdiler   SERİE A ekipler...</td>\n",
       "      <td>5</td>\n",
       "      <td>jong sıraya girdiler seri̇e ekiplerinden lan b...</td>\n",
       "    </tr>\n",
       "    <tr>\n",
       "      <th>...</th>\n",
       "      <td>...</td>\n",
       "      <td>...</td>\n",
       "      <td>...</td>\n",
       "    </tr>\n",
       "    <tr>\n",
       "      <th>54716</th>\n",
       "      <td>SAMBACI JAJA ALKOL ENGELİNE TAKILDI .m, TRABZO...</td>\n",
       "      <td>5</td>\n",
       "      <td>sambaci jaja alkol engeli̇ne takildi trabzonsp...</td>\n",
       "    </tr>\n",
       "    <tr>\n",
       "      <th>54717</th>\n",
       "      <td>Gıda Tarım ve Hayvancılık Bakanı Faruk Çelik, ...</td>\n",
       "      <td>1</td>\n",
       "      <td>gıda tarım hayvancılık bakanı faruk çelik ekme...</td>\n",
       "    </tr>\n",
       "    <tr>\n",
       "      <th>54718</th>\n",
       "      <td>PANORAMA Uftk. Uluslararası Whitley Doğa Korum...</td>\n",
       "      <td>0</td>\n",
       "      <td>panorama uftk uluslararası whitley doğa koruma...</td>\n",
       "    </tr>\n",
       "    <tr>\n",
       "      <th>54719</th>\n",
       "      <td>Patates tüketiminin artırılması hedefleniyor A...</td>\n",
       "      <td>1</td>\n",
       "      <td>patates tüketiminin artırılması hedefleniyor a...</td>\n",
       "    </tr>\n",
       "    <tr>\n",
       "      <th>54720</th>\n",
       "      <td>63 N -i  Z  wcT Anka: Efsanelerin Uçağı   Proj...</td>\n",
       "      <td>9</td>\n",
       "      <td>wct anka efsanelerin uçağı projeye başlandığın...</td>\n",
       "    </tr>\n",
       "  </tbody>\n",
       "</table>\n",
       "<p>54721 rows × 3 columns</p>\n",
       "</div>"
      ],
      "text/plain": [
       "                                                 content  category  \\\n",
       "0      50 yıldır yükselen enerji: Aygaz TÜRK HALKINI ...         1   \n",
       "1      Onur Akyıl Bir insan kadar mutsuzBir insan kad...         0   \n",
       "2      . yolculuk GÜNEYLİ SARIŞIN: REESE WITHERSPOON ...         0   \n",
       "3      Doğru tercih yapan hiçbir aday açıkta kalmayac...         3   \n",
       "4      De Jong için sıraya girdiler   SERİE A ekipler...         5   \n",
       "...                                                  ...       ...   \n",
       "54716  SAMBACI JAJA ALKOL ENGELİNE TAKILDI .m, TRABZO...         5   \n",
       "54717  Gıda Tarım ve Hayvancılık Bakanı Faruk Çelik, ...         1   \n",
       "54718  PANORAMA Uftk. Uluslararası Whitley Doğa Korum...         0   \n",
       "54719  Patates tüketiminin artırılması hedefleniyor A...         1   \n",
       "54720  63 N -i  Z  wcT Anka: Efsanelerin Uçağı   Proj...         9   \n",
       "\n",
       "                                           clean_content  \n",
       "0      yıldır yükselen enerji aygaz türk halkini tüpg...  \n",
       "1      onur akyıl insan mutsuzbir insan mutsuzi onur ...  \n",
       "2      yolculuk güneyli̇ sarişin reese witherspoon ya...  \n",
       "3      doğru tercih yapan aday açıkta kalmayacak aday...  \n",
       "4      jong sıraya girdiler seri̇e ekiplerinden lan b...  \n",
       "...                                                  ...  \n",
       "54716  sambaci jaja alkol engeli̇ne takildi trabzonsp...  \n",
       "54717  gıda tarım hayvancılık bakanı faruk çelik ekme...  \n",
       "54718  panorama uftk uluslararası whitley doğa koruma...  \n",
       "54719  patates tüketiminin artırılması hedefleniyor a...  \n",
       "54720  wct anka efsanelerin uçağı projeye başlandığın...  \n",
       "\n",
       "[54721 rows x 3 columns]"
      ]
     },
     "execution_count": 4,
     "metadata": {},
     "output_type": "execute_result"
    }
   ],
   "source": [
    "df_test"
   ]
  },
  {
   "cell_type": "code",
   "execution_count": 5,
   "metadata": {},
   "outputs": [
    {
     "data": {
      "text/html": [
       "<div>\n",
       "<style scoped>\n",
       "    .dataframe tbody tr th:only-of-type {\n",
       "        vertical-align: middle;\n",
       "    }\n",
       "\n",
       "    .dataframe tbody tr th {\n",
       "        vertical-align: top;\n",
       "    }\n",
       "\n",
       "    .dataframe thead th {\n",
       "        text-align: right;\n",
       "    }\n",
       "</style>\n",
       "<table border=\"1\" class=\"dataframe\">\n",
       "  <thead>\n",
       "    <tr style=\"text-align: right;\">\n",
       "      <th></th>\n",
       "      <th>content</th>\n",
       "      <th>category</th>\n",
       "      <th>clean_content</th>\n",
       "    </tr>\n",
       "  </thead>\n",
       "  <tbody>\n",
       "    <tr>\n",
       "      <th>0</th>\n",
       "      <td>Tarihten Sınıfta Kaldık Bugün tarihe damgasını...</td>\n",
       "      <td>0</td>\n",
       "      <td>tarihten sınıfta kaldık bugün tarihe damgasını...</td>\n",
       "    </tr>\n",
       "    <tr>\n",
       "      <th>1</th>\n",
       "      <td>clş ve yatırım ortamı iyileştiriliyor, bürokra...</td>\n",
       "      <td>1</td>\n",
       "      <td>clş yatırım ortamı iyileştiriliyor bürokrasi a...</td>\n",
       "    </tr>\n",
       "    <tr>\n",
       "      <th>2</th>\n",
       "      <td>Animasyon meraklıları için! Yönetmen: Jennifer...</td>\n",
       "      <td>0</td>\n",
       "      <td>animasyon meraklıları yönetmen jenniferyuh ses...</td>\n",
       "    </tr>\n",
       "    <tr>\n",
       "      <th>3</th>\n",
       "      <td>İTİ BEEF JJ SVftSL ff 44     BEEFSFISH 16)2016...</td>\n",
       "      <td>0</td>\n",
       "      <td>i̇ti̇ beef svftsl beefsfish kirmizi eti̇n fran...</td>\n",
       "    </tr>\n",
       "    <tr>\n",
       "      <th>4</th>\n",
       "      <td>LPG Dolum - Boşaltım kursu KTSO da yapıldı Kar...</td>\n",
       "      <td>1</td>\n",
       "      <td>lpg dolum boşaltım kursu ktso yapıldı karaman ...</td>\n",
       "    </tr>\n",
       "    <tr>\n",
       "      <th>...</th>\n",
       "      <td>...</td>\n",
       "      <td>...</td>\n",
       "      <td>...</td>\n",
       "    </tr>\n",
       "    <tr>\n",
       "      <th>218875</th>\n",
       "      <td>Begüm-Mert Yazıcıoğiu çiftinin ikinci bebekler...</td>\n",
       "      <td>7</td>\n",
       "      <td>begümmert yazıcıoğiu çiftinin ikinci bebekleri...</td>\n",
       "    </tr>\n",
       "    <tr>\n",
       "      <th>218876</th>\n",
       "      <td>AKRAPOVIC FULL MOON Fiyat açıklanmadı (konsept...</td>\n",
       "      <td>6</td>\n",
       "      <td>akrapovic full moon fiyat açıklanmadı konsept ...</td>\n",
       "    </tr>\n",
       "    <tr>\n",
       "      <th>218877</th>\n",
       "      <td>Babil gibi bal Notlar Bugün Şenkaya ilçesine b...</td>\n",
       "      <td>0</td>\n",
       "      <td>babil bal notlar bugün şenkaya ilçesine bağlı ...</td>\n",
       "    </tr>\n",
       "    <tr>\n",
       "      <th>218878</th>\n",
       "      <td>ÇEVRE İSTATİSTİKLERİNİN ÖZETLERİ YAYINLANDI Tü...</td>\n",
       "      <td>1</td>\n",
       "      <td>çevre i̇stati̇sti̇kleri̇ni̇n özetleri̇ yayinla...</td>\n",
       "    </tr>\n",
       "    <tr>\n",
       "      <th>218879</th>\n",
       "      <td>Türkiye  ninyeni tuzu EFSINA marketierde Krist...</td>\n",
       "      <td>8</td>\n",
       "      <td>ninyeni tuzu efsina marketierde kristal yapısı...</td>\n",
       "    </tr>\n",
       "  </tbody>\n",
       "</table>\n",
       "<p>218880 rows × 3 columns</p>\n",
       "</div>"
      ],
      "text/plain": [
       "                                                  content  category  \\\n",
       "0       Tarihten Sınıfta Kaldık Bugün tarihe damgasını...         0   \n",
       "1       clş ve yatırım ortamı iyileştiriliyor, bürokra...         1   \n",
       "2       Animasyon meraklıları için! Yönetmen: Jennifer...         0   \n",
       "3       İTİ BEEF JJ SVftSL ff 44     BEEFSFISH 16)2016...         0   \n",
       "4       LPG Dolum - Boşaltım kursu KTSO da yapıldı Kar...         1   \n",
       "...                                                   ...       ...   \n",
       "218875  Begüm-Mert Yazıcıoğiu çiftinin ikinci bebekler...         7   \n",
       "218876  AKRAPOVIC FULL MOON Fiyat açıklanmadı (konsept...         6   \n",
       "218877  Babil gibi bal Notlar Bugün Şenkaya ilçesine b...         0   \n",
       "218878  ÇEVRE İSTATİSTİKLERİNİN ÖZETLERİ YAYINLANDI Tü...         1   \n",
       "218879  Türkiye  ninyeni tuzu EFSINA marketierde Krist...         8   \n",
       "\n",
       "                                            clean_content  \n",
       "0       tarihten sınıfta kaldık bugün tarihe damgasını...  \n",
       "1       clş yatırım ortamı iyileştiriliyor bürokrasi a...  \n",
       "2       animasyon meraklıları yönetmen jenniferyuh ses...  \n",
       "3       i̇ti̇ beef svftsl beefsfish kirmizi eti̇n fran...  \n",
       "4       lpg dolum boşaltım kursu ktso yapıldı karaman ...  \n",
       "...                                                   ...  \n",
       "218875  begümmert yazıcıoğiu çiftinin ikinci bebekleri...  \n",
       "218876  akrapovic full moon fiyat açıklanmadı konsept ...  \n",
       "218877  babil bal notlar bugün şenkaya ilçesine bağlı ...  \n",
       "218878  çevre i̇stati̇sti̇kleri̇ni̇n özetleri̇ yayinla...  \n",
       "218879  ninyeni tuzu efsina marketierde kristal yapısı...  \n",
       "\n",
       "[218880 rows x 3 columns]"
      ]
     },
     "execution_count": 5,
     "metadata": {},
     "output_type": "execute_result"
    }
   ],
   "source": [
    "df_train"
   ]
  },
  {
   "cell_type": "code",
   "execution_count": 6,
   "metadata": {},
   "outputs": [
    {
     "data": {
      "text/html": [
       "<div>\n",
       "<style scoped>\n",
       "    .dataframe tbody tr th:only-of-type {\n",
       "        vertical-align: middle;\n",
       "    }\n",
       "\n",
       "    .dataframe tbody tr th {\n",
       "        vertical-align: top;\n",
       "    }\n",
       "\n",
       "    .dataframe thead th {\n",
       "        text-align: right;\n",
       "    }\n",
       "</style>\n",
       "<table border=\"1\" class=\"dataframe\">\n",
       "  <thead>\n",
       "    <tr style=\"text-align: right;\">\n",
       "      <th></th>\n",
       "      <th>content</th>\n",
       "      <th>category</th>\n",
       "      <th>clean_content</th>\n",
       "    </tr>\n",
       "  </thead>\n",
       "  <tbody>\n",
       "    <tr>\n",
       "      <th>0</th>\n",
       "      <td>Tarihten Sınıfta Kaldık Bugün tarihe damgasını...</td>\n",
       "      <td>0</td>\n",
       "      <td>tarihten sınıfta kaldık bugün tarihe damgasını...</td>\n",
       "    </tr>\n",
       "    <tr>\n",
       "      <th>1</th>\n",
       "      <td>clş ve yatırım ortamı iyileştiriliyor, bürokra...</td>\n",
       "      <td>1</td>\n",
       "      <td>clş yatırım ortamı iyileştiriliyor bürokrasi a...</td>\n",
       "    </tr>\n",
       "    <tr>\n",
       "      <th>2</th>\n",
       "      <td>Animasyon meraklıları için! Yönetmen: Jennifer...</td>\n",
       "      <td>0</td>\n",
       "      <td>animasyon meraklıları yönetmen jenniferyuh ses...</td>\n",
       "    </tr>\n",
       "    <tr>\n",
       "      <th>3</th>\n",
       "      <td>İTİ BEEF JJ SVftSL ff 44     BEEFSFISH 16)2016...</td>\n",
       "      <td>0</td>\n",
       "      <td>i̇ti̇ beef svftsl beefsfish kirmizi eti̇n fran...</td>\n",
       "    </tr>\n",
       "    <tr>\n",
       "      <th>4</th>\n",
       "      <td>LPG Dolum - Boşaltım kursu KTSO da yapıldı Kar...</td>\n",
       "      <td>1</td>\n",
       "      <td>lpg dolum boşaltım kursu ktso yapıldı karaman ...</td>\n",
       "    </tr>\n",
       "    <tr>\n",
       "      <th>...</th>\n",
       "      <td>...</td>\n",
       "      <td>...</td>\n",
       "      <td>...</td>\n",
       "    </tr>\n",
       "    <tr>\n",
       "      <th>273596</th>\n",
       "      <td>SAMBACI JAJA ALKOL ENGELİNE TAKILDI .m, TRABZO...</td>\n",
       "      <td>5</td>\n",
       "      <td>sambaci jaja alkol engeli̇ne takildi trabzonsp...</td>\n",
       "    </tr>\n",
       "    <tr>\n",
       "      <th>273597</th>\n",
       "      <td>Gıda Tarım ve Hayvancılık Bakanı Faruk Çelik, ...</td>\n",
       "      <td>1</td>\n",
       "      <td>gıda tarım hayvancılık bakanı faruk çelik ekme...</td>\n",
       "    </tr>\n",
       "    <tr>\n",
       "      <th>273598</th>\n",
       "      <td>PANORAMA Uftk. Uluslararası Whitley Doğa Korum...</td>\n",
       "      <td>0</td>\n",
       "      <td>panorama uftk uluslararası whitley doğa koruma...</td>\n",
       "    </tr>\n",
       "    <tr>\n",
       "      <th>273599</th>\n",
       "      <td>Patates tüketiminin artırılması hedefleniyor A...</td>\n",
       "      <td>1</td>\n",
       "      <td>patates tüketiminin artırılması hedefleniyor a...</td>\n",
       "    </tr>\n",
       "    <tr>\n",
       "      <th>273600</th>\n",
       "      <td>63 N -i  Z  wcT Anka: Efsanelerin Uçağı   Proj...</td>\n",
       "      <td>9</td>\n",
       "      <td>wct anka efsanelerin uçağı projeye başlandığın...</td>\n",
       "    </tr>\n",
       "  </tbody>\n",
       "</table>\n",
       "<p>273601 rows × 3 columns</p>\n",
       "</div>"
      ],
      "text/plain": [
       "                                                  content  category  \\\n",
       "0       Tarihten Sınıfta Kaldık Bugün tarihe damgasını...         0   \n",
       "1       clş ve yatırım ortamı iyileştiriliyor, bürokra...         1   \n",
       "2       Animasyon meraklıları için! Yönetmen: Jennifer...         0   \n",
       "3       İTİ BEEF JJ SVftSL ff 44     BEEFSFISH 16)2016...         0   \n",
       "4       LPG Dolum - Boşaltım kursu KTSO da yapıldı Kar...         1   \n",
       "...                                                   ...       ...   \n",
       "273596  SAMBACI JAJA ALKOL ENGELİNE TAKILDI .m, TRABZO...         5   \n",
       "273597  Gıda Tarım ve Hayvancılık Bakanı Faruk Çelik, ...         1   \n",
       "273598  PANORAMA Uftk. Uluslararası Whitley Doğa Korum...         0   \n",
       "273599  Patates tüketiminin artırılması hedefleniyor A...         1   \n",
       "273600  63 N -i  Z  wcT Anka: Efsanelerin Uçağı   Proj...         9   \n",
       "\n",
       "                                            clean_content  \n",
       "0       tarihten sınıfta kaldık bugün tarihe damgasını...  \n",
       "1       clş yatırım ortamı iyileştiriliyor bürokrasi a...  \n",
       "2       animasyon meraklıları yönetmen jenniferyuh ses...  \n",
       "3       i̇ti̇ beef svftsl beefsfish kirmizi eti̇n fran...  \n",
       "4       lpg dolum boşaltım kursu ktso yapıldı karaman ...  \n",
       "...                                                   ...  \n",
       "273596  sambaci jaja alkol engeli̇ne takildi trabzonsp...  \n",
       "273597  gıda tarım hayvancılık bakanı faruk çelik ekme...  \n",
       "273598  panorama uftk uluslararası whitley doğa koruma...  \n",
       "273599  patates tüketiminin artırılması hedefleniyor a...  \n",
       "273600  wct anka efsanelerin uçağı projeye başlandığın...  \n",
       "\n",
       "[273601 rows x 3 columns]"
      ]
     },
     "execution_count": 6,
     "metadata": {},
     "output_type": "execute_result"
    }
   ],
   "source": [
    "df_all"
   ]
  },
  {
   "cell_type": "code",
   "execution_count": 7,
   "metadata": {
    "colab": {
     "base_uri": "https://localhost:8080/"
    },
    "executionInfo": {
     "elapsed": 564,
     "status": "ok",
     "timestamp": 1613106771800,
     "user": {
      "displayName": "Serdar AKYOL",
      "photoUrl": "https://lh3.googleusercontent.com/a-/AOh14GhFoEhTTdnKtbAMCf_KR00rHfafHKDcsas7YjsxIA=s64",
      "userId": "13192402314406047829"
     },
     "user_tz": -180
    },
    "id": "tPwZCOQtJt5C",
    "outputId": "f449bab6-1399-4880-8066-bb5e98852dc8"
   },
   "outputs": [
    {
     "data": {
      "text/plain": [
       "(273601, 3)"
      ]
     },
     "execution_count": 7,
     "metadata": {},
     "output_type": "execute_result"
    }
   ],
   "source": [
    "df_all.shape"
   ]
  },
  {
   "cell_type": "markdown",
   "metadata": {},
   "source": [
    "### TF-IDF Word Vectors (2000 Features)"
   ]
  },
  {
   "cell_type": "code",
   "execution_count": 8,
   "metadata": {
    "colab": {
     "base_uri": "https://localhost:8080/"
    },
    "executionInfo": {
     "elapsed": 745185,
     "status": "ok",
     "timestamp": 1613107605864,
     "user": {
      "displayName": "Serdar AKYOL",
      "photoUrl": "https://lh3.googleusercontent.com/a-/AOh14GhFoEhTTdnKtbAMCf_KR00rHfafHKDcsas7YjsxIA=s64",
      "userId": "13192402314406047829"
     },
     "user_tz": -180
    },
    "id": "GowmriWfx-79",
    "outputId": "be57558d-5be4-4ed8-d088-cf919737fccf"
   },
   "outputs": [
    {
     "name": "stdout",
     "output_type": "stream",
     "text": [
      "word feature extracted\n"
     ]
    }
   ],
   "source": [
    "#  word vectorizer and fit\n",
    "vectorizer_word = TfidfVectorizer(max_features=2000, analyzer='word', ngram_range = (1,3), min_df=3, sublinear_tf=1)\n",
    "featured_tfidf_word = vectorizer_word.fit(df_all['clean_content'])\n",
    "\n",
    "#  save word vectorize\n",
    "with open(PATH_ROOT + 'vectors/interpress_news_category_tr_lite_train_cleaned_tfidf_word_2000.pkl', 'wb') as handle:\n",
    "    pickle.dump(featured_tfidf_word, handle, protocol=pickle.HIGHEST_PROTOCOL)\n",
    "print(\"word feature extracted\")"
   ]
  },
  {
   "cell_type": "code",
   "execution_count": 9,
   "metadata": {},
   "outputs": [],
   "source": [
    "del vectorizer_word\n",
    "del featured_tfidf_word"
   ]
  },
  {
   "cell_type": "markdown",
   "metadata": {},
   "source": [
    "### TF-IDF Char Vectors (2000 Features)"
   ]
  },
  {
   "cell_type": "code",
   "execution_count": 14,
   "metadata": {
    "id": "pHk4Z8E7zRus"
   },
   "outputs": [
    {
     "name": "stdout",
     "output_type": "stream",
     "text": [
      "char feature extracted\n"
     ]
    }
   ],
   "source": [
    "#  char vectorizer and fit the data\n",
    "vectorizer_char = TfidfVectorizer(max_features=2000, analyzer='char', ngram_range = (2,6), sublinear_tf=True, min_df=3)\n",
    "featured_tfidf_char = vectorizer_char.fit(df_all['clean_content'])\n",
    "print(\"char feature extracted\")\n",
    "\n",
    "#  save char vectorizer\n",
    "with open(PATH_ROOT + 'vectors/interpress_news_category_tr_lite_train_cleaned_tfidf_char_2000.pkl', 'wb') as handle:\n",
    "    pickle.dump(featured_tfidf_char, handle, protocol=pickle.HIGHEST_PROTOCOL)"
   ]
  },
  {
   "cell_type": "code",
   "execution_count": 15,
   "metadata": {},
   "outputs": [],
   "source": [
    "del vectorizer_char\n",
    "del featured_tfidf_char"
   ]
  },
  {
   "cell_type": "code",
   "execution_count": null,
   "metadata": {},
   "outputs": [],
   "source": []
  }
 ],
 "metadata": {
  "colab": {
   "collapsed_sections": [],
   "machine_shape": "hm",
   "name": "3-feature_extraction.ipynb",
   "provenance": [
    {
     "file_id": "168mUteawbbMfplkef5XhRKmfRaqakQOl",
     "timestamp": 1612103150916
    },
    {
     "file_id": "1hfyGe1L9gRvE0BA-uF97WXjG1-aCJhLo",
     "timestamp": 1610977759351
    },
    {
     "file_id": "1EhV8loc8YGajanvuyKVXS6_9NXj2l0lL",
     "timestamp": 1610971316628
    },
    {
     "file_id": "1j0iqV5ZHYvgvBsYhTLfflWSkRfUpnWts",
     "timestamp": 1610970574074
    },
    {
     "file_id": "1usAJG7Vw1ibjEnwRnF3RdYMBcP-d9mgy",
     "timestamp": 1610391444522
    },
    {
     "file_id": "15kOQvjWDWRpqIMwcbuVK1A_tYDfqzmXL",
     "timestamp": 1610264734174
    },
    {
     "file_id": "1-d_cswyB7vyXcSfVUhNf2FmulnUAGmi3",
     "timestamp": 1610264644885
    },
    {
     "file_id": "1R-eRxihkoUuobq9eV7P-FlKDQPlxI0wW",
     "timestamp": 1610264540446
    },
    {
     "file_id": "1n-mq4FCR3MNPc0ZiRDB4_smukAhjhdCA",
     "timestamp": 1610215573242
    },
    {
     "file_id": "1GqZu6zmCy2vMNMZqO78DDuHvwv_9vJcp",
     "timestamp": 1609855024052
    },
    {
     "file_id": "1IzPbxNFQmmSYk9s14L4YjBfUgACn9mW2",
     "timestamp": 1593978024316
    },
    {
     "file_id": "1G7NKeneJNyRtcRxLVbbF9jYtRyuTOa-R",
     "timestamp": 1592749700622
    },
    {
     "file_id": "https://github.com/satyajitghana/TSAI-DeepVision-EVA4.0/blob/master/Utils/Colab_25GBRAM_GPU.ipynb",
     "timestamp": 1592043804148
    }
   ]
  },
  "kernelspec": {
   "display_name": "Python 3",
   "language": "python",
   "name": "python3"
  },
  "language_info": {
   "codemirror_mode": {
    "name": "ipython",
    "version": 3
   },
   "file_extension": ".py",
   "mimetype": "text/x-python",
   "name": "python",
   "nbconvert_exporter": "python",
   "pygments_lexer": "ipython3",
   "version": "3.8.5"
  }
 },
 "nbformat": 4,
 "nbformat_minor": 4
}
